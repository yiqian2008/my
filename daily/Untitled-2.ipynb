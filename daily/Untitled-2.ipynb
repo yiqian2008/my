{
 "cells": [
  {
   "cell_type": "markdown",
   "metadata": {},
   "source": [
    "# Practice\n",
    "## lecture 1"
   ]
  },
  {
   "cell_type": "code",
   "execution_count": 13,
   "metadata": {},
   "outputs": [
    {
     "name": "stdout",
     "output_type": "stream",
     "text": [
      "['a', 'BB', 'bb', 'ccc', 'dddd', 'eeeee']\n",
      "['eeeee', 'dddd', 'ccc', 'bb', 'a', 'BB']\n"
     ]
    }
   ],
   "source": [
    "v = [ \"eeeee\", \"BB\", \"a\", \"dddd\", \"ccc\", \"bb\" ]\n",
    "w = v\n",
    "v = v.copy()\n",
    "v.sort(key=str.lower)\n",
    "w.sort(reverse=True)\n",
    "print(v)\n",
    "print(w)"
   ]
  },
  {
   "cell_type": "code",
   "execution_count": 29,
   "metadata": {},
   "outputs": [
    {
     "data": {
      "text/plain": [
       "['eeeee', 'bb', 'dddd', 'ccc', 'bb']"
      ]
     },
     "execution_count": 29,
     "metadata": {},
     "output_type": "execute_result"
    }
   ],
   "source": [
    "v = [ \"eeeee\", \"bb\", \"a\", \"dddd\", \"ccc\", \"bb\" ]\n",
    "v.pop(2)\n",
    "v"
   ]
  },
  {
   "cell_type": "code",
   "execution_count": 32,
   "metadata": {},
   "outputs": [
    {
     "data": {
      "text/plain": [
       "['eeeee', 'a', 'dddd', 'ccc', 'bb']"
      ]
     },
     "execution_count": 32,
     "metadata": {},
     "output_type": "execute_result"
    }
   ],
   "source": [
    "v = [ \"eeeee\", \"bb\", \"a\", \"dddd\", \"ccc\", \"bb\" ]\n",
    "v.remove(\"bb\")\n",
    "v"
   ]
  },
  {
   "cell_type": "code",
   "execution_count": 35,
   "metadata": {},
   "outputs": [
    {
     "data": {
      "text/plain": [
       "['eeeee', 'bb', 'F', 'a', 'dddd', 'ccc', 'bb']"
      ]
     },
     "execution_count": 35,
     "metadata": {},
     "output_type": "execute_result"
    }
   ],
   "source": [
    "v = [ \"eeeee\", \"bb\", \"a\", \"dddd\", \"ccc\", \"bb\" ]\n",
    "# ...\n",
    "# Insert element \"F\" to v at index 2\n",
    "v.insert(2,\"F\")\n",
    "v"
   ]
  },
  {
   "cell_type": "code",
   "execution_count": 40,
   "metadata": {},
   "outputs": [
    {
     "data": {
      "text/plain": [
       "['eeeee', 'bb', 'ffffff', 'g', 'ffffff', 'bb']"
      ]
     },
     "execution_count": 40,
     "metadata": {},
     "output_type": "execute_result"
    }
   ],
   "source": [
    "v = [ \"eeeee\", \"bb\", \"a\", \"dddd\", \"ccc\", \"bb\" ]\n",
    "w = [ \"ffffff\", \"g\", \"ffffff\" ]\n",
    "# ...\n",
    "# Insert (\"slice in\") elements of w to v at index 2 (so, that v gets length 9 and v[2:5] has elements from w).\n",
    "v[2:5] = w\n",
    "v"
   ]
  },
  {
   "cell_type": "code",
   "execution_count": 43,
   "metadata": {},
   "outputs": [
    {
     "data": {
      "text/plain": [
       "['eeeee', 'bb', 'a', 'dddd', 'ccc', 'bb', 'F']"
      ]
     },
     "execution_count": 43,
     "metadata": {},
     "output_type": "execute_result"
    }
   ],
   "source": [
    "v = [ \"eeeee\", \"bb\", \"a\", \"dddd\", \"ccc\", \"bb\" ]\n",
    "# ...\n",
    "# Here, a single new element \"F\" should be *appended* to the end of the list\n",
    "v.append(\"F\")\n",
    "v"
   ]
  },
  {
   "cell_type": "code",
   "execution_count": 47,
   "metadata": {},
   "outputs": [
    {
     "data": {
      "text/plain": [
       "9"
      ]
     },
     "execution_count": 47,
     "metadata": {},
     "output_type": "execute_result"
    }
   ],
   "source": [
    "v = [ \"eeeee\", \"bb\", \"a\", \"dddd\", \"ccc\", \"bb\" ]\n",
    "w = [ \"ffffff\", \"g\", \"ffffff\" ]\n",
    "# ...\n",
    "# Extend the list by append elements of w to v at the end of v. (so, length of v should be 9!)\n",
    "v.extend(w)\n",
    "len(v)"
   ]
  },
  {
   "cell_type": "code",
   "execution_count": 49,
   "metadata": {},
   "outputs": [
    {
     "data": {
      "text/plain": [
       "True"
      ]
     },
     "execution_count": 49,
     "metadata": {},
     "output_type": "execute_result"
    }
   ],
   "source": [
    "v = [ \"ababab\", \"baaab\", \"bbbaa\", \"aabba\", \"aaaab\", \"abbaa\", \"aabbb\", \"abaaa\", \"aaaaa\", \"bbbab\", \"bbbqb\", \"aaaqb\", \"bbbbq\" ]\n",
    "w = \"bbbab\"\n",
    "# ...\n",
    "# How to programmatically find whether the value of w is *in* the iterable list v?\n",
    "# The result should be True or False\n",
    "w in v"
   ]
  },
  {
   "cell_type": "code",
   "execution_count": 51,
   "metadata": {},
   "outputs": [
    {
     "data": {
      "text/plain": [
       "True"
      ]
     },
     "execution_count": 51,
     "metadata": {},
     "output_type": "execute_result"
    }
   ],
   "source": [
    "v = [ \"ababab\", \"baaab\", \"bbbaa\", \"aabba\", \"aaaab\", \"abbaa\", \"aabbb\", \"abaaa\", \"aaaaa\", \"bbbab\", \"bbbqb\", \"aaaqb\", \"bbbbq\" ]\n",
    "w = \"abaab\"\n",
    "w not in v"
   ]
  },
  {
   "cell_type": "code",
   "execution_count": 52,
   "metadata": {},
   "outputs": [
    {
     "data": {
      "text/plain": [
       "(1, 2, 3, 'x', 'y', 'z')"
      ]
     },
     "execution_count": 52,
     "metadata": {},
     "output_type": "execute_result"
    }
   ],
   "source": [
    "lst = [1,2,3,\"x\",\"y\",\"z\"]\n",
    "tuple( lst )  \n"
   ]
  },
  {
   "cell_type": "code",
   "execution_count": 53,
   "metadata": {},
   "outputs": [
    {
     "data": {
      "text/plain": [
       "('S', 't', 'a', 't', 'i', 's', 't', 'i', 'c', 's')"
      ]
     },
     "execution_count": 53,
     "metadata": {},
     "output_type": "execute_result"
    }
   ],
   "source": [
    "tuple( \"Statistics\" )   "
   ]
  },
  {
   "cell_type": "code",
   "execution_count": 67,
   "metadata": {},
   "outputs": [
    {
     "data": {
      "text/plain": [
       "[1, 3, 7, 13, 21, 31]"
      ]
     },
     "execution_count": 67,
     "metadata": {},
     "output_type": "execute_result"
    }
   ],
   "source": [
    "xs = [ 0, 1, 2, 3, 4, 5 ]\n",
    "ys = [x**2 + x + 1  for x in xs]\n",
    "ys"
   ]
  },
  {
   "cell_type": "code",
   "execution_count": null,
   "metadata": {},
   "outputs": [
    {
     "data": {
      "text/plain": [
       "[1, 3, 7, 13, 21, 31]"
      ]
     },
     "execution_count": 68,
     "metadata": {},
     "output_type": "execute_result"
    }
   ],
   "source": [
    "\n",
    "ys = [x**2 + x + 1  for x in range(6)]   ## range   n-1\n",
    "ys"
   ]
  },
  {
   "cell_type": "code",
   "execution_count": 64,
   "metadata": {},
   "outputs": [
    {
     "data": {
      "text/plain": [
       "range(0, 5)"
      ]
     },
     "execution_count": 64,
     "metadata": {},
     "output_type": "execute_result"
    }
   ],
   "source": [
    "xs = range(5)\n",
    "xs\n"
   ]
  },
  {
   "cell_type": "code",
   "execution_count": 74,
   "metadata": {},
   "outputs": [
    {
     "data": {
      "text/plain": [
       "['eeeee', 'a', 'dddd', 'ccc']"
      ]
     },
     "execution_count": 74,
     "metadata": {},
     "output_type": "execute_result"
    }
   ],
   "source": [
    "toRemove = \"bb\"\n",
    "v = [ \"eeeee\", \"bb\", \"a\", \"dddd\", \"ccc\", \"bb\" ]\n",
    "# w = [ ... for ... if ... ]     # w should not have elements equal the value of toRemove\n",
    "[w for w in v if w!= toRemove]"
   ]
  },
  {
   "cell_type": "code",
   "execution_count": 75,
   "metadata": {},
   "outputs": [
    {
     "data": {
      "text/plain": [
       "['eeeee', 'dddd', 'ccc']"
      ]
     },
     "execution_count": 75,
     "metadata": {},
     "output_type": "execute_result"
    }
   ],
   "source": [
    "toRemove = [ \"bb\", \"a\" ]\n",
    "v = [ \"eeeee\", \"bb\", \"a\", \"dddd\", \"ccc\", \"bb\" ]\n",
    "# w = [ ... for ... if ... ]     # w should *not* have elements *in* toRemove list\n",
    "[w for w in v if w not in toRemove]"
   ]
  },
  {
   "cell_type": "code",
   "execution_count": 81,
   "metadata": {},
   "outputs": [
    {
     "data": {
      "text/plain": [
       "False"
      ]
     },
     "execution_count": 81,
     "metadata": {},
     "output_type": "execute_result"
    }
   ],
   "source": [
    "v = [ \"ababab\", \"baaab\", \"bbbaa\", \"aabba\", \"aaaab\", \"abbaa\", \"aabbb\", \"abaaa\", \"aaaaa\", \"bbbab\", \"bbbqb\", \"aaaqb\", \"bbbbq\" ]\n",
    "w = [ \"aaaqb\", \"abbaa\", \"ababab\" ]\n",
    "# ...\n",
    "# Write a statement checking whether *all* elements of w are *in* v.\n",
    "# The result should be a single True or False value.\n",
    "all(item in v for item in w)\n",
    "any(item not in v for item in w)\n"
   ]
  },
  {
   "cell_type": "code",
   "execution_count": 84,
   "metadata": {},
   "outputs": [
    {
     "data": {
      "text/plain": [
       "[(173, 57),\n",
       " (179, 58),\n",
       " (167, 62),\n",
       " (195, 84),\n",
       " (173, 64),\n",
       " (184, 74),\n",
       " (162, 57),\n",
       " (169, 44)]"
      ]
     },
     "execution_count": 84,
     "metadata": {},
     "output_type": "execute_result"
    }
   ],
   "source": [
    "heights = [ 173, 179, 167, 195, 173, 184, 162, 169 ]  # 8 persons\n",
    "weights = [ 57, 58, 62, 84, 64, 74, 57, 44 ]          # same 8 persons, same order\n",
    "zip( heights, weights )                # this is a generator of ( height, weight ) tuples\n",
    "list( zip( heights, weights ) )  \n",
    "BMI = [(h,v) for h,v in zip( heights, weights )]\n",
    "BMI"
   ]
  },
  {
   "cell_type": "code",
   "execution_count": 85,
   "metadata": {},
   "outputs": [
    {
     "data": {
      "text/plain": [
       "((0, 173),\n",
       " (1, 179),\n",
       " (2, 167),\n",
       " (3, 195),\n",
       " (4, 173),\n",
       " (5, 184),\n",
       " (6, 162),\n",
       " (7, 169))"
      ]
     },
     "execution_count": 85,
     "metadata": {},
     "output_type": "execute_result"
    }
   ],
   "source": [
    "heights = [ 173, 179, 167, 195, 173, 184, 162, 169 ]  # 8 persons\n",
    "enumerate( heights )                   # this is a generator of ( index, element ) tuple pairs\n",
    "tuple( enumerate( heights ) )          # do you understand this result?"
   ]
  },
  {
   "cell_type": "code",
   "execution_count": 86,
   "metadata": {},
   "outputs": [
    {
     "data": {
      "text/plain": [
       "['a',\n",
       " ['ba', ['bba', 'bbb'], 'bc', ['bda', 'bdb'], 'be'],\n",
       " 'c',\n",
       " [['daa', 'dab']]]"
      ]
     },
     "execution_count": 86,
     "metadata": {},
     "output_type": "execute_result"
    }
   ],
   "source": [
    "nestedList = [ \"a\", [ \"ba\", [ \"bba\", \"bbb\" ], \"bc\", [ \"bda\", \"bdb\" ], \"be\" ], \"c\", [ [ \"daa\", \"dab\" ] ] ]\n",
    "nestedList"
   ]
  },
  {
   "cell_type": "markdown",
   "metadata": {},
   "source": [
    "## lecture 2"
   ]
  },
  {
   "cell_type": "code",
   "execution_count": 91,
   "metadata": {},
   "outputs": [
    {
     "data": {
      "text/plain": [
       "[7, 6, 5, 9, 0, 8, 7, 4, 2, 8, 2, 5, 7, 2, 3, 3, 5, 3, 4, 6]"
      ]
     },
     "execution_count": 91,
     "metadata": {},
     "output_type": "execute_result"
    }
   ],
   "source": [
    "## 循环多少次\n",
    "from random import randint\n",
    "\n",
    "vs = [randint(0,9) for _ in range(20)]\n",
    "vs"
   ]
  },
  {
   "cell_type": "code",
   "execution_count": null,
   "metadata": {},
   "outputs": [
    {
     "data": {
      "text/plain": [
       "{0: 2, 1: 6, 2: 5, 3: 2, 4: 2, 5: 4, 6: 1, 7: 2, 8: 2}"
      ]
     },
     "execution_count": 96,
     "metadata": {},
     "output_type": "execute_result"
    }
   ],
   "source": [
    "## counting\n",
    "vs = [ 1, 7, 3, 1, 0, 2, 5, 7, 8, 2, 6, 2, 4, 1, 5, 5, 0, 2, 5, 4, 1, 3, 1, 8, 2, 1 ]\n",
    "unique = set(vs)\n",
    "vs2cnt = {element:0 for element in unique}\n",
    "for element in vs:\n",
    "    vs2cnt[element] +=1\n",
    "vs2cnt\n"
   ]
  },
  {
   "cell_type": "code",
   "execution_count": 99,
   "metadata": {},
   "outputs": [
    {
     "data": {
      "text/plain": [
       "{'SB-222-W': 'red', 'XC-333-L': 'red', 'UI-222-R': 'green'}"
      ]
     },
     "execution_count": 99,
     "metadata": {},
     "output_type": "execute_result"
    }
   ],
   "source": [
    "## Removing from a dictionary all items of given values\n",
    "licPlate2color = {\n",
    "    \"VA-111-V\": \"silver\", \"SB-222-W\": \"red\", \"XC-333-L\": \"red\",\n",
    "    \"AB-111-E\": \"white\", \"ER-222-U\": \"black\", \"BV-333-Z\": \"white\",\n",
    "    \"CC-111-J\": \"silver\", \"UI-222-R\": \"green\", \"GF-333-U\": \"silver\",\n",
    "    \"WT-111-K\": \"white\", \"KJ-222-Q\": \"silver\", \"LK-333-I\": \"black\",\n",
    "}\n",
    "toRemoveColors = [ \"white\", \"silver\", \"black\" ]\n",
    "lp2c = {plate:color for plate,color in licPlate2color.items()  if color not in toRemoveColors}\n",
    "lp2c"
   ]
  },
  {
   "cell_type": "code",
   "execution_count": null,
   "metadata": {},
   "outputs": [],
   "source": [
    "## import package\n",
    "from collections import defaultdict\n",
    "defaultdict"
   ]
  },
  {
   "cell_type": "code",
   "execution_count": null,
   "metadata": {},
   "outputs": [],
   "source": []
  }
 ],
 "metadata": {
  "kernelspec": {
   "display_name": "Python 3",
   "language": "python",
   "name": "python3"
  },
  "language_info": {
   "codemirror_mode": {
    "name": "ipython",
    "version": 3
   },
   "file_extension": ".py",
   "mimetype": "text/x-python",
   "name": "python",
   "nbconvert_exporter": "python",
   "pygments_lexer": "ipython3",
   "version": "3.11.9"
  }
 },
 "nbformat": 4,
 "nbformat_minor": 2
}
