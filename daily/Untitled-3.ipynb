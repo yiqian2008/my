{
 "cells": [
  {
   "cell_type": "code",
   "execution_count": 7,
   "metadata": {},
   "outputs": [
    {
     "ename": "ValueError",
     "evalue": "n must be non-negative",
     "output_type": "error",
     "traceback": [
      "\u001b[1;31m---------------------------------------------------------------------------\u001b[0m",
      "\u001b[1;31mValueError\u001b[0m                                Traceback (most recent call last)",
      "Cell \u001b[1;32mIn[7], line 14\u001b[0m\n\u001b[0;32m      9\u001b[0m     \u001b[38;5;28;01mreturn\u001b[39;00m vs\n\u001b[0;32m     11\u001b[0m \u001b[38;5;66;03m#for n in range(10):\u001b[39;00m\n\u001b[0;32m     12\u001b[0m     \u001b[38;5;66;03m#print(n ,\" = \",pascaltrianglerow(n)\u001b[39;00m\n\u001b[1;32m---> 14\u001b[0m \u001b[43mpascaltrianglerow\u001b[49m\u001b[43m(\u001b[49m\u001b[38;5;241;43m-\u001b[39;49m\u001b[38;5;241;43m1\u001b[39;49m\u001b[43m)\u001b[49m\n",
      "Cell \u001b[1;32mIn[7], line 3\u001b[0m, in \u001b[0;36mpascaltrianglerow\u001b[1;34m(n)\u001b[0m\n\u001b[0;32m      1\u001b[0m \u001b[38;5;28;01mdef\u001b[39;00m\u001b[38;5;250m \u001b[39m\u001b[38;5;21mpascaltrianglerow\u001b[39m(n):\n\u001b[0;32m      2\u001b[0m     \u001b[38;5;28;01mif\u001b[39;00m n \u001b[38;5;241m<\u001b[39m \u001b[38;5;241m0\u001b[39m:\n\u001b[1;32m----> 3\u001b[0m         \u001b[38;5;28;01mraise\u001b[39;00m \u001b[38;5;167;01mValueError\u001b[39;00m(\u001b[38;5;124m\"\u001b[39m\u001b[38;5;124mn must be non-negative\u001b[39m\u001b[38;5;124m\"\u001b[39m)\n\u001b[0;32m      4\u001b[0m     vs \u001b[38;5;241m=\u001b[39m []\n\u001b[0;32m      5\u001b[0m     \u001b[38;5;28;01mfor\u001b[39;00m r \u001b[38;5;129;01min\u001b[39;00m \u001b[38;5;28mrange\u001b[39m(\u001b[38;5;241m0\u001b[39m,n\u001b[38;5;241m+\u001b[39m\u001b[38;5;241m1\u001b[39m):\n",
      "\u001b[1;31mValueError\u001b[0m: n must be non-negative"
     ]
    }
   ],
   "source": [
    "def pascaltrianglerow(n):\n",
    "    if n < 0:\n",
    "        raise ValueError(\"n must be non-negative\")\n",
    "    vs = []\n",
    "    for r in range(0,n+1):\n",
    "        for c in range(1,r):\n",
    "            vs[c-1]+= vs[c]\n",
    "        vs.insert(0,1)\n",
    "    return vs\n",
    "\n",
    "#for n in range(10):\n",
    "    #print(n ,\" = \",pascaltrianglerow(n)\n",
    "\n",
    "pascaltrianglerow(-1)\n"
   ]
  },
  {
   "cell_type": "code",
   "execution_count": 1,
   "metadata": {},
   "outputs": [
    {
     "name": "stdout",
     "output_type": "stream",
     "text": [
      "Before loop\n",
      "Body start i=0\n",
      "Body end i=0\n",
      "Body start i=1\n",
      "Body end i=1\n",
      "Body start i=2\n",
      "Body end i=2\n",
      "After loop\n"
     ]
    }
   ],
   "source": [
    "print( \"Before loop\" )\n",
    "for i in range(3):\n",
    "    print( f\"Body start i={i}\" )\n",
    "    pass                           # some useful loop code could be here\n",
    "    print( f\"Body end i={i}\" )\n",
    "print( \"After loop\" )"
   ]
  }
 ],
 "metadata": {
  "kernelspec": {
   "display_name": "Python 3",
   "language": "python",
   "name": "python3"
  },
  "language_info": {
   "codemirror_mode": {
    "name": "ipython",
    "version": 3
   },
   "file_extension": ".py",
   "mimetype": "text/x-python",
   "name": "python",
   "nbconvert_exporter": "python",
   "pygments_lexer": "ipython3",
   "version": "3.11.9"
  }
 },
 "nbformat": 4,
 "nbformat_minor": 2
}
