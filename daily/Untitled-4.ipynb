{
 "cells": [
  {
   "cell_type": "code",
   "execution_count": 9,
   "metadata": {},
   "outputs": [
    {
     "name": "stdout",
     "output_type": "stream",
     "text": [
      "A lamp in thekitchen is off\n"
     ]
    }
   ],
   "source": [
    "class Simplelamp:\n",
    "    def __init__(self,location:str):\n",
    "        self.location = location\n",
    "        self.isOn = False\n",
    "    def __str__(self):\n",
    "        return f\"A lamp in the{self.location} is {'on' if self.isOn else 'off'}\"\n",
    "lamp = Simplelamp(\"kitchen\")\n",
    "print(lamp)\n"
   ]
  },
  {
   "cell_type": "code",
   "execution_count": 3,
   "metadata": {},
   "outputs": [
    {
     "name": "stdout",
     "output_type": "stream",
     "text": [
      "Desk Lamp is off\n"
     ]
    }
   ],
   "source": [
    "class SimpleLamp:\n",
    "    def __init__(self, name):            # constructor, \"self\" is the object being created, \"name\" is the argument given by the user\n",
    "        self.name = name                 # instance attribute \"self.name\", set to the value of the argument \"name\"\n",
    "        self.isOn = False \n",
    "    def __str__(self):\n",
    "        return f\"{self.name} is {'on' if self.isOn  else 'off'}\" \n",
    "lamp = SimpleLamp(name=\"Desk Lamp\") \n",
    "print(lamp)"
   ]
  }
 ],
 "metadata": {
  "kernelspec": {
   "display_name": "Python 3",
   "language": "python",
   "name": "python3"
  },
  "language_info": {
   "codemirror_mode": {
    "name": "ipython",
    "version": 3
   },
   "file_extension": ".py",
   "mimetype": "text/x-python",
   "name": "python",
   "nbconvert_exporter": "python",
   "pygments_lexer": "ipython3",
   "version": "3.11.9"
  }
 },
 "nbformat": 4,
 "nbformat_minor": 2
}
